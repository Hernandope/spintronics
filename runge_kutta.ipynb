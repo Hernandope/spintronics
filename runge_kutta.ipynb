{
 "cells": [
  {
   "cell_type": "code",
   "execution_count": 1,
   "metadata": {},
   "outputs": [],
   "source": [
    "import matplotlib.pyplot as plt\n",
    "import numpy as np\n",
    "import math"
   ]
  },
  {
   "cell_type": "code",
   "execution_count": 3,
   "metadata": {},
   "outputs": [],
   "source": [
    "def eq1(x, y): \n",
    "    return ((x - y)/2) \n",
    "# A sample differential equation \"dy/dx = -y\" \n",
    "def eq2(x, y): \n",
    "    return (-y) \n",
    "    \n",
    "# # Finds value of y for a given x using step size h \n",
    "# # and initial value y0 at x0. \n",
    "def rungeKuttaNew(diff_eq, x_n, y_n, x, h): \n",
    "    y = y_n \n",
    "    n = int((x - x_n)/h) \n",
    "    # Iterate for n number of iterations \n",
    "    for i in range(1, n + 1): \n",
    "        \"Apply Runge Kutta Formulas to find next value of y\"\n",
    "        k1 = h * diff_eq(x_n, y) \n",
    "        k2 = h * diff_eq(x_n + 0.5*h, y + 0.5*k1*h) \n",
    "        k3 = h * diff_eq(x_n + 0.5*h, y + 0.5*k2*h) \n",
    "        k4 = h * diff_eq(x_n + h, y + k3*h) \n",
    "        # Update next value of y \n",
    "        y = y + (1.0 / 6.0)*(k1 + 2*k2 + 2*k3 + k4) \n",
    "        # Update next value of x \n",
    "        x_n = x_n + h \n",
    "    return y "
   ]
  },
  {
   "cell_type": "code",
   "execution_count": 4,
   "metadata": {},
   "outputs": [
    {
     "name": "stdout",
     "output_type": "stream",
     "text": [
      "Using differential equation dy/dx = (x - y)/2\n",
      "when h = 2 the value of y at x is:1.3333333333333333\n",
      "accuracy = 16.954795895052733\n",
      "when h = 1 the value of y at x is:1.1045125325520833\n",
      "accuracy = 31.20664847330502\n",
      "when h = 0.8 the value of y at x is:0.945626032246329\n",
      "accuracy = 41.10271985886412\n",
      "when h = 0.5 the value of y at x is:1.1113393521694261\n",
      "accuracy = 30.7814475019226\n",
      "when h = 0.2 the value of y at x is:1.1096073229170962\n",
      "accuracy = 30.889325044004206\n",
      "when h = 0.1 the value of y at x is:1.1071364573357978\n",
      "accuracy = 31.04322019639032\n",
      "when h = 0.001 the value of y at x is:1.1036784225644738\n",
      "accuracy = 31.258600098930273\n",
      "when h = 0.001 the value of y at x is:1.1036784225644738\n",
      "accuracy = 31.258600098930273\n"
     ]
    }
   ],
   "source": [
    "# Test 1  \n",
    "x0 = 0\n",
    "y0 = 1\n",
    "x = 2\n",
    "h_list = [2, 1, 0.8, 0.5, 0.2, 0.1, 0.001, 10**(-3)]\n",
    "print(\"Using differential equation dy/dx = (x - y)/2\")\n",
    "for h in h_list:\n",
    "    ans = rungeKuttaNew(eq1, x0, y0, x, h)\n",
    "    print('when h = {} the value of y at x is:{}'.format(str(h),ans))\n",
    "    print('accuracy = {}'.format(((1.605551275-ans)/1.605551275)*100))\n"
   ]
  },
  {
   "cell_type": "code",
   "execution_count": 5,
   "metadata": {},
   "outputs": [
    {
     "name": "stdout",
     "output_type": "stream",
     "text": [
      "Using differential equation new dy/dx = -y\n",
      "when h = 2 the value of y at x is:9.0\n",
      "accuracy = -2346.4565794731416\n",
      "when h = 1 the value of y at x is:0.007415771484375\n",
      "accuracy = 97.98418189557572\n",
      "when h = 0.8 the value of y at x is:0.004758786157711907\n",
      "accuracy = 98.70642625490666\n",
      "when h = 0.5 the value of y at x is:0.0029064410317486957\n",
      "accuracy = 99.20994646833641\n",
      "when h = 0.2 the value of y at x is:0.004272560041601913\n",
      "accuracy = 98.83859637500322\n",
      "when h = 0.1 the value of y at x is:0.005298412517877426\n",
      "accuracy = 98.55974042609732\n",
      "when h = 0.001 the value of y at x is:0.006721128779480543\n",
      "accuracy = 98.17300558621706\n"
     ]
    }
   ],
   "source": [
    "# Test 2  \n",
    "x0 = 0\n",
    "y0 = 1\n",
    "x = 5\n",
    "h_list = [2, 1, 0.8, 0.5, 0.2, 0.1 , 10**(-3)]\n",
    "print(\"Using differential equation new dy/dx = -y\")\n",
    "for h in h_list:\n",
    "    ans = rungeKuttaNew(eq2, x0, y0, x, h)\n",
    "    print('when h = {} the value of y at x is:{}'.format(str(h),ans))\n",
    "    print('accuracy = {}'.format(((0.367879-ans)/0.367879)*100))"
   ]
  },
  {
   "cell_type": "code",
   "execution_count": 59,
   "metadata": {},
   "outputs": [],
   "source": [
    "# Test Debasis\n",
    "x_axis = np.linspace(0,8,100)\n",
    "y_anal = np.exp(-x_axis)\n",
    "y_rk4 = []\n",
    "\n",
    "for x in x_axis:\n",
    "    y_rk4.append(rungeKuttaNew(eq2, 0, 1, x, 0.08))\n",
    "    "
   ]
  },
  {
   "cell_type": "code",
   "execution_count": 60,
   "metadata": {},
   "outputs": [
    {
     "data": {
      "image/png": "[encoded data removed]",
      "text/plain": [
       "<Figure size 432x288 with 1 Axes>"
      ]
     },
     "metadata": {
      "needs_background": "light"
     },
     "output_type": "display_data"
    }
   ],
   "source": [
    "fig = plt.figure()\n",
    "ax = fig.add_subplot(1, 1, 1)\n",
    "\n",
    "plt.plot(x_axis, y_anal, 'b', label='Analytical')\n",
    "plt.plot(x_axis, y_rk4, 'orange', marker=\".\", label='Runge-Kutta')\n",
    "\n",
    "plt.xlabel(\"x\")\n",
    "plt.ylabel(\"y\")\n",
    "plt.legend(loc='upper right')\n",
    "plt.grid()\n",
    "\n",
    "plt.show()"
   ]
  },
  {
   "cell_type": "code",
   "execution_count": 11,
   "metadata": {},
   "outputs": [
    {
     "data": {
      "image/png": "[encoded data removed]",
      "text/plain": [
       "<Figure size 432x288 with 1 Axes>"
      ]
     },
     "metadata": {
      "needs_background": "light"
     },
     "output_type": "display_data"
    }
   ],
   "source": [
    "# setting the axes at the centre\n",
    "fig = plt.figure()\n",
    "ax = fig.add_subplot(1, 1, 1)\n",
    "ax.spines['left'].set_position('center')\n",
    "ax.spines['bottom'].set_position('zero')\n",
    "ax.spines['right'].set_color('none')\n",
    "ax.spines['top'].set_color('none')\n",
    "ax.xaxis.set_ticks_position('bottom')\n",
    "ax.yaxis.set_ticks_position('left')\n",
    "\n",
    "plt.plot(x,y, 'b')\n",
    "\n",
    "plt.show()"
   ]
  },
  {
   "cell_type": "code",
   "execution_count": null,
   "metadata": {},
   "outputs": [],
   "source": []
  }
 ],
 "metadata": {
  "kernelspec": {
   "display_name": "Python 3",
   "language": "python",
   "name": "python3"
  },
  "language_info": {
   "codemirror_mode": {
    "name": "ipython",
    "version": 3
   },
   "file_extension": ".py",
   "mimetype": "text/x-python",
   "name": "python",
   "nbconvert_exporter": "python",
   "pygments_lexer": "ipython3",
   "version": "3.6.8"
  }
 },
 "nbformat": 4,
 "nbformat_minor": 4
}
