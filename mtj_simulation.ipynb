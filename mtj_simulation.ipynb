{
 "cells": [
  {
   "cell_type": "code",
   "execution_count": 4,
   "metadata": {},
   "outputs": [],
   "source": [
    "import matplotlib.pyplot as plt\n",
    "import numpy as np\n",
    "import math\n",
    "from mpl_toolkits import mplot3d"
   ]
  },
  {
   "cell_type": "code",
   "execution_count": 5,
   "metadata": {},
   "outputs": [],
   "source": [
    "# Advised constants\n",
    "alpha = 0.007 #gilbert damping constant\n",
    "mu_0 = 4*math.pi*(10**(-7)) #(Tm/A)\n",
    "gamma = 1.76*(10**11) #(rad/sT) gyromagnetic ratio of electron\n",
    "M_s = 850*10**(3) #(A/m) Saturation magnetization of nanomagnet\n",
    "I_s = 0.4644 #(A) applied spin current\n",
    "delta = 42 #thermal stability factor\n",
    "temp = 300 #(K) temperature\n",
    "ht = 6.62607015*(10**(-34)) # (J Hz^-1) planck constant from nist\n",
    "q_e = 1.602176634*(10**(-19)) # (C) elementary charge of electron from nist\n",
    "k_B = 1.380649*(10**(-23)) # (JK^-1) Boltzmann constant from nist\n",
    " \n",
    "\n",
    "# MTJ dimensions\n",
    "W = 40 #(nm)\n",
    "L = 120 #(nm)\n",
    "t_fl = 1.5 #(nm)\n",
    "A = (math.pi/4)*L*W # cross sectional area of MTJ\n",
    "V = A*t_fl\n",
    "\n",
    "J_mtj = I_s/A # surface current for mtj\n",
    "\n",
    "H_k = 2*delta*k_B*temp/(V*mu_0*M_s)\n",
    "demag_const = np.array([-0.066*M_s, -0.911*M_s, -0.022*M_s])\n",
    "m_p = np.array([0,0,1])"
   ]
  },
  {
   "cell_type": "code",
   "execution_count": 6,
   "metadata": {},
   "outputs": [],
   "source": [
    "# differential equation dm/dt for LLGS (based on debasis' note)\" \n",
    "def llgs(t, m, H_eff):\n",
    "    beta = (gamma*ht*J_mtj)/(2*q_e*M_s*t_fl) \n",
    "    return -(gamma*mu_0)/(1+alpha**2) * np.cross(m, H_eff) \\\n",
    "    - alpha*(gamma*mu_0)/(1+alpha**2) * np.cross(m, np.cross(m,H_eff)) \\\n",
    "    - beta/(1+alpha**2) * np.cross(m, np.cross(m, m_p)) \\\n",
    "    + alpha*beta/(1+alpha**2) * np.cross(m,m_p)\n",
    "\n",
    "def llgsRK(x_n, y_n, x, h, H_eff): \n",
    "    y = y_n \n",
    "    n = int((x - x_n)/h) \n",
    "    # Iterate for n number of iterations \n",
    "    for i in range(1, n + 1): \n",
    "        \"Apply Runge Kutta Formulas to find next value of y\"\n",
    "        k1 = h * llgs(x_n, y, H_eff) \n",
    "        k2 = h * llgs(x_n + 0.5*h, y + 0.5*k1, H_eff) \n",
    "        k3 = h * llgs(x_n + 0.5*h, y + 0.5*k2, H_eff) \n",
    "        k4 = h * llgs(x_n + h, y + k3, H_eff) \n",
    "        # Update next value of y \n",
    "        y = y + (1.0 / 6.0)*(k1 + 2*k2 + 2*k3 + k4) \n",
    "        # Update next value of x \n",
    "        x_n = x_n + h \n",
    "    return y\n",
    "\n",
    "# calculate y value of x series\n",
    "def calcMSeries(t_axis, h, t_0, m_0):\n",
    "    # RK4 solution\n",
    "    m_rk4 = []\n",
    "    m_prev = m_0\n",
    "    t_prev = t_0\n",
    "    \n",
    "    H_eff = np.add([0,0,H_k*m_0[2]], np.multiply(demag_const, m_0))    \n",
    "    for t in t_axis:\n",
    "        new_m = llgsRK(t_prev, m_prev, t, h, H_eff)\n",
    "        m_rk4.append(new_m)\n",
    "        m_prev = new_m\n",
    "        t_prev = t\n",
    "        H_eff = np.add([0,0,H_k*new_m[2]], np.multiply(demag_const, new_m) )\n",
    "        \n",
    "    # change all elements to list\n",
    "    for i in range(1,len(m_rk4)):\n",
    "        m_rk4[i] = m_rk4[i].tolist()\n",
    "    return m_rk4\n",
    "\n",
    "# Plots \n",
    "def plotM(t_axis, m_list):\n",
    "    # separate mx my mz\n",
    "    mx = [item[0] for item in m_list]\n",
    "    my = [item[1] for item in m_list]\n",
    "    mz = [item[2] for item in m_list]\n",
    "\n",
    "    # plot result\n",
    "    fig = plt.figure()\n",
    "    ax = fig.add_subplot(1, 1, 1)\n",
    "\n",
    "    plt.plot(t_axis, mx, '.r-', label='mx')\n",
    "    plt.plot(t_axis, my, '.g-', label='my')\n",
    "    plt.plot(t_axis, mz, '.b-', label='mz')\n",
    "\n",
    "    plt.title(\"Using Simulation parameter from paper\")\n",
    "    plt.xlabel(\"t/s\")\n",
    "    plt.ylabel(\"mx,my,mz\")\n",
    "    plt.legend(loc='upper right')\n",
    "    plt.grid()\n",
    "\n",
    "    plt.show()\n"
   ]
  },
  {
   "cell_type": "markdown",
   "metadata": {},
   "source": [
    "### Simulating full MTJ"
   ]
  },
  {
   "cell_type": "code",
   "execution_count": 10,
   "metadata": {},
   "outputs": [],
   "source": [
    "t_range = 2*10**(-8)\n",
    "t_0 = 0\n",
    "step_amount = 2001\n",
    "t_axis = np.linspace(t_0,t_range,step_amount)\n",
    "\n",
    "h = t_range/step_amount\n",
    "# m_0 = [0, 1/2, math.sqrt(1-(1/2)**2)]\n",
    "m_0 = np.array([0,0,-0.99])"
   ]
  },
  {
   "cell_type": "code",
   "execution_count": 11,
   "metadata": {},
   "outputs": [],
   "source": [
    "m_rk4 = calcMSeries(t_axis, h, t_0, m_0)"
   ]
  },
  {
   "cell_type": "code",
   "execution_count": 12,
   "metadata": {},
   "outputs": [
    {
     "data": {
      "image/png": "[encoded data removed]",
      "text/plain": [
       "<Figure size 432x288 with 1 Axes>"
      ]
     },
     "metadata": {
      "needs_background": "light"
     },
     "output_type": "display_data"
    }
   ],
   "source": [
    "plotM(t_axis, m_rk4)"
   ]
  },
  {
   "cell_type": "code",
   "execution_count": null,
   "metadata": {},
   "outputs": [],
   "source": []
  }
 ],
 "metadata": {
  "kernelspec": {
   "display_name": "Python 3",
   "language": "python",
   "name": "python3"
  },
  "language_info": {
   "codemirror_mode": {
    "name": "ipython",
    "version": 3
   },
   "file_extension": ".py",
   "mimetype": "text/x-python",
   "name": "python",
   "nbconvert_exporter": "python",
   "pygments_lexer": "ipython3",
   "version": "3.6.9"
  }
 },
 "nbformat": 4,
 "nbformat_minor": 4
}
